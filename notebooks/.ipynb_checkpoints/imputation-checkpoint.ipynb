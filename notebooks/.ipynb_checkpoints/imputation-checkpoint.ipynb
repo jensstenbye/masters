{
 "cells": [
  {
   "cell_type": "code",
   "execution_count": null,
   "id": "5739c770",
   "metadata": {},
   "outputs": [],
   "source": []
  },
  {
   "cell_type": "code",
   "execution_count": 7,
   "id": "ed5550af",
   "metadata": {},
   "outputs": [],
   "source": [
    "import numpy as np\n",
    "import scanpy as sc\n",
    "import matplotlib.pyplot as plt\n",
    "import matplotlib\n",
    "import pandas as pd\n",
    "import notebook_utils as nu\n",
    "import importlib\n",
    "from scipy.stats import kde\n",
    "importlib.reload(nu)\n",
    "importlib.reload(sc)\n",
    "sc.settings.verbosity = 0"
   ]
  },
  {
   "cell_type": "markdown",
   "id": "61f403f5",
   "metadata": {},
   "source": [
    "## Imputation performance; Downsampled to 80% depth"
   ]
  },
  {
   "cell_type": "code",
   "execution_count": 14,
   "id": "bec17235",
   "metadata": {},
   "outputs": [
    {
     "name": "stdout",
     "output_type": "stream",
     "text": [
      "AnnData object with n_obs × n_vars = 9698 × 980\n",
      "    obs: 'size_factors'\n",
      "    var: 'gene_symbols', 'feature_types', 'mean', 'std'\n",
      "    uns: 'Downsample_fraction', 'dropout_idx', 'hvg'\n",
      "    layers: 'counts', 'raw_prediction'\n"
     ]
    }
   ],
   "source": [
    "#Read in data\n",
    "True_counts = sc.read('/home/jbs/scRNA-seq/steps/preprocessed/redone/PBMC_win600.h5')\n",
    "DCA_z4_ds80 = sc.read('/home/jbs/scRNA-seq/steps/redone/DCA/latent_ds80/DCA_z4_predict.h5')\n",
    "SCELD_z4_ds80 = sc.read('/home/jbs/scRNA-seq/steps/redone/SCELDFC/latent_ds80/SCELDFC_z4_predict.h5')\n",
    "print(DCA_z32_ds80)"
   ]
  },
  {
   "cell_type": "code",
   "execution_count": 3,
   "id": "c4fb9f17",
   "metadata": {},
   "outputs": [
    {
     "name": "stdout",
     "output_type": "stream",
     "text": [
      "9504040\n",
      "1035228\n",
      "1035228\n"
     ]
    }
   ],
   "source": [
    "#Plot imputation for all counts:\n",
    "y = True_counts.layers['counts'].flatten();\n",
    "raw_filter = ((y != 0) & (y <= 10))\n",
    "print(y.size)\n",
    "y = y[raw_filter]\n",
    "print(y.size)\n",
    "x =  DCA_z32_ds80.layers['counts'].flatten()*2;\n",
    "x = x[raw_filter]\n",
    "print(x.size)"
   ]
  },
  {
   "cell_type": "code",
   "execution_count": 6,
   "id": "aca118ce",
   "metadata": {},
   "outputs": [],
   "source": [
    "%matplotlib inline\n",
    "#plt.hexbin(x,y)\n",
    "#plt.show()"
   ]
  },
  {
   "cell_type": "code",
   "execution_count": 20,
   "id": "57d9d51b",
   "metadata": {},
   "outputs": [
    {
     "data": {
      "image/png": "[encoded data removed]",
      "text/plain": [
       "<Figure size 432x288 with 1 Axes>"
      ]
     },
     "metadata": {
      "needs_background": "light"
     },
     "output_type": "display_data"
    }
   ],
   "source": [
    "# Evaluate a gaussian kde on a regular grid of nbins x nbins over data extents\n",
    "%matplotlib inline\n",
    "plt.hist2d(x,y,bins=(50,50), cmap=plt.cm.Reds)\n",
    "plt.ylim(0,10)\n",
    "plt.xlim(0,10)\n",
    "plt.show()"
   ]
  },
  {
   "cell_type": "code",
   "execution_count": null,
   "id": "2f9d408f",
   "metadata": {},
   "outputs": [],
   "source": [
    "0.8 = 1 * 0.8 -> 1 = 0.8/0.8"
   ]
  },
  {
   "cell_type": "code",
   "execution_count": null,
   "id": "9741a22b",
   "metadata": {},
   "outputs": [],
   "source": [
    "%matplotlib inline\n",
    "plt.pcolormesh(xi, yi, zi.reshape(xi.shape), shading='auto')\n",
    "plt.show()"
   ]
  },
  {
   "cell_type": "code",
   "execution_count": 16,
   "id": "3a3ada46",
   "metadata": {},
   "outputs": [],
   "source": [
    "#Create CSV's for R plotting\n",
    "np.savetxt(\"Raw_counts.csv\", True_counts.layers['counts'], delimiter=\"\\t\")\n",
    "np.savetxt(\"DCA_ds80_z4_preds.csv\", DCA_z4_ds80.layers['raw_prediction']/0.8, delimiter=\"\\t\")\n",
    "np.savetxt(\"SCELD_ds80_z4_preds.csv\", SCELD_z4_ds80.layers['raw_prediction']/0.8, delimiter=\"\\t\")\n",
    "np.savetxt(\"Raw_downsampled\", SCELD_z4_ds80.layers['counts']/0.8, delimiter=\"\\t\")"
   ]
  },
  {
   "cell_type": "code",
   "execution_count": 13,
   "id": "9d9c74b3",
   "metadata": {},
   "outputs": [
    {
     "ename": "IndexError",
     "evalue": "too many indices for array",
     "output_type": "error",
     "traceback": [
      "\u001b[0;31m---------------------------------------------------------------------------\u001b[0m",
      "\u001b[0;31mIndexError\u001b[0m                                Traceback (most recent call last)",
      "\u001b[0;32m<ipython-input-13-a757afc92cfe>\u001b[0m in \u001b[0;36m<module>\u001b[0;34m\u001b[0m\n\u001b[1;32m      1\u001b[0m \u001b[0;31m#Create CSV's for only dropout counts\u001b[0m\u001b[0;34m\u001b[0m\u001b[0;34m\u001b[0m\u001b[0;34m\u001b[0m\u001b[0m\n\u001b[1;32m      2\u001b[0m \u001b[0mdrop_idx\u001b[0m \u001b[0;34m=\u001b[0m \u001b[0mtuple\u001b[0m\u001b[0;34m(\u001b[0m\u001b[0mDCA_z32_ds80\u001b[0m\u001b[0;34m.\u001b[0m\u001b[0muns\u001b[0m\u001b[0;34m[\u001b[0m\u001b[0;34m'dropout_idx'\u001b[0m\u001b[0;34m]\u001b[0m\u001b[0;34m)\u001b[0m\u001b[0;34m\u001b[0m\u001b[0;34m\u001b[0m\u001b[0m\n\u001b[0;32m----> 3\u001b[0;31m \u001b[0mTrue_counts\u001b[0m\u001b[0;34m.\u001b[0m\u001b[0mlayers\u001b[0m\u001b[0;34m[\u001b[0m\u001b[0;34m'counts'\u001b[0m\u001b[0;34m]\u001b[0m\u001b[0;34m[\u001b[0m\u001b[0mdrop_idx\u001b[0m\u001b[0;34m]\u001b[0m\u001b[0;34m\u001b[0m\u001b[0;34m\u001b[0m\u001b[0m\n\u001b[0m",
      "\u001b[0;31mIndexError\u001b[0m: too many indices for array"
     ]
    }
   ],
   "source": [
    "#Create CSV's for only dropout counts\n",
    "drop_idx = tuple(DCA_z32_ds80.uns['dropout_idx'])\n",
    "True_counts.layers['counts'][drop_idx]"
   ]
  }
 ],
 "metadata": {
  "kernelspec": {
   "display_name": "Python 3",
   "language": "python",
   "name": "python3"
  },
  "language_info": {
   "codemirror_mode": {
    "name": "ipython",
    "version": 3
   },
   "file_extension": ".py",
   "mimetype": "text/x-python",
   "name": "python",
   "nbconvert_exporter": "python",
   "pygments_lexer": "ipython3",
   "version": "3.7.10"
  }
 },
 "nbformat": 4,
 "nbformat_minor": 5
}
