{
 "cells": [
  {
   "cell_type": "code",
   "execution_count": 1,
   "id": "cdc9ea20",
   "metadata": {},
   "outputs": [],
   "source": [
    "import numpy as np\n",
    "import scanpy as sc\n",
    "import matplotlib.pyplot as plt\n",
    "import matplotlib\n",
    "import pandas as pd\n",
    "import notebook_utils as nu\n",
    "import importlib\n",
    "importlib.reload(nu)\n",
    "importlib.reload(sc)\n",
    "sc.settings.verbosity = 0"
   ]
  },
  {
   "cell_type": "code",
   "execution_count": null,
   "id": "7fbc39a6",
   "metadata": {},
   "outputs": [],
   "source": []
  },
  {
   "cell_type": "code",
   "execution_count": null,
   "id": "5fc27ecb",
   "metadata": {},
   "outputs": [],
   "source": [
    "#Model inspection\n",
    "SCELDFC = pd.read_csv('/home/jbs/scRNA-seq/steps/redone/SCELDFC/SCELDFC_test_loss.csv', sep='\\t')\n",
    "SCELDFC = SCELDFC.drop(columns=['Epoch']);\n",
    "SCELD = pd.read_csv('/home/jbs/scRNA-seq/steps/redone/SCELD/SCELD_default_loss.csv', sep='\\t')\n",
    "SCELD = SCELD.drop(columns=['Epoch']);\n",
    "DCA = pd.read_csv('/home/jbs/scRNA-seq/steps/redone/DCA/DCA_default_loss.csv', sep='\\t')\n",
    "DCA = DCA.drop(columns=['Epoch']);"
   ]
  },
  {
   "cell_type": "code",
   "execution_count": null,
   "id": "78a523e7",
   "metadata": {},
   "outputs": [],
   "source": [
    "test_df = {\n",
    "    'DCA':DCA.Test_loss[0:2500],\n",
    "    'SCELD':SCELD.Test_loss[0:2500],\n",
    "    'SCELDFC':SCELDFC.Test_loss[0:2500]\n",
    "}\n",
    "df = pd.DataFrame (test_df, columns = ['DCA', 'SCELD', 'SCELDFC'])\n",
    "df.plot(ylim=[0,1500], title='Test Loss', ylabel='NLL', xlabel='Epoch')"
   ]
  },
  {
   "cell_type": "code",
   "execution_count": null,
   "id": "93b359d1",
   "metadata": {},
   "outputs": [],
   "source": [
    "SCELD3 = pd.read_csv('/home/jbs/scRNA-seq/steps/redone/SCELD/SCELD_learn/SCELD_learn3_loss.csv', sep='\\t')\n",
    "SCELD3 = SCELD3.drop(columns=['Epoch']);\n",
    "SCELD32 = pd.read_csv('/home/jbs/scRNA-seq/steps/redone/SCELD/SCELD_learn/SCELD_learn32_loss.csv', sep='\\t')\n",
    "SCELD32 = SCELD32.drop(columns=['Epoch']);\n",
    "test_df = {\n",
    "    'SCELD':SCELD.Test_loss[0:2500],\n",
    "    'SCELD_basset3':SCELD3.Test_loss[0:2500],\n",
    "    'SCELD_basset32':SCELD32.Test_loss[0:2500],\n",
    "}\n",
    "df = pd.DataFrame (test_df, columns = ['SCELD', 'SCELD_basset3', 'SCELD_basset32'])\n",
    "df.plot(ylim=[0,1500], title='Test Loss', ylabel='NLL', xlabel='Epoch')"
   ]
  },
  {
   "cell_type": "markdown",
   "id": "3f3065c6",
   "metadata": {},
   "source": [
    "## DCA loss"
   ]
  },
  {
   "cell_type": "code",
   "execution_count": 20,
   "id": "0a59470b",
   "metadata": {},
   "outputs": [
    {
     "data": {
      "image/png": "[encoded data removed]",
      "text/plain": [
       "<Figure size 432x288 with 1 Axes>"
      ]
     },
     "metadata": {
      "needs_background": "light"
     },
     "output_type": "display_data"
    }
   ],
   "source": [
    "%matplotlib inline\n",
    "DCA = pd.read_csv('/home/jbs/scRNA-seq/steps/redone2/DCA/latent/DCA_z32_loss.csv', sep='\\t')\n",
    "DCA = DCA.drop(columns=['Epoch']);\n",
    "#plt.figure(figsize = (15,5))\n",
    "#plt.subplot(1, 3, 1)\n",
    "\n",
    "#SCELDFC.plot(ylim=0, title='SCELDFC', ylabel='NLL', xlabel='Epoch');\n",
    "#plt.subplot(1, 3, 2)\n",
    "#SCELD.plot(ylim=0, title='SCELD', ylabel='NLL', xlabel='Epoch')\n",
    "#plt.subplot(1, 3, 3)\n",
    "ax = DCA.plot(ylim=0, title='DCA z32', ylabel='NLL', xlabel='Epoch')\n",
    "plt.axvline(x=819, label='Best model', linestyle='--')\n",
    "ax.legend([\"Test Loss\", \"Training Loss\",  'Best model']);\n",
    "\n",
    "plt.savefig('/home/jbs/scRNA-seq/steps/redone/Figures/DCA_z32.svg', format='svg') \n",
    "plt.show()\n",
    "#ax.set_xlim(right=2500"
   ]
  },
  {
   "cell_type": "code",
   "execution_count": 19,
   "id": "7d2a6dcd",
   "metadata": {},
   "outputs": [
    {
     "data": {
      "text/plain": [
       "Test_loss     381.503162\n",
       "Train_loss    362.775443\n",
       "Name: 819, dtype: float64"
      ]
     },
     "execution_count": 19,
     "metadata": {},
     "output_type": "execute_result"
    }
   ],
   "source": [
    "DCA.iloc[819]"
   ]
  },
  {
   "cell_type": "markdown",
   "id": "d75b4ecb",
   "metadata": {},
   "source": [
    "## DCA hyper search"
   ]
  },
  {
   "cell_type": "code",
   "execution_count": null,
   "id": "1e47bb2f",
   "metadata": {},
   "outputs": [],
   "source": [
    "DCAz4 = pd.read_csv('/home/jbs/scRNA-seq/steps/redone2/DCA/latent/DCA_z4_loss.csv', sep='\\t')\n",
    "DCAz4 = DCAz4.drop(columns=['Epoch']);\n",
    "DCAz8 = pd.read_csv('/home/jbs/scRNA-seq/steps/redone2/DCA/latent/DCA_z8_loss.csv', sep='\\t')\n",
    "DCAz8 = DCAz8.drop(columns=['Epoch']);\n",
    "DCAz16 = pd.read_csv('/home/jbs/scRNA-seq/steps/redone2/DCA/latent/DCA_z16_loss.csv', sep='\\t')\n",
    "DCAz16 = DCAz16.drop(columns=['Epoch']);\n",
    "DCAz32 = pd.read_csv('/home/jbs/scRNA-seq/steps/redone2/DCA/latent/DCA_z32_loss.csv', sep='\\t')\n",
    "DCAz32 = DCAz32.drop(columns=['Epoch']);\n",
    "DCAz64 = pd.read_csv('/home/jbs/scRNA-seq/steps/redone2/DCA/latent/DCA_z64_loss.csv', sep='\\t')\n",
    "DCAz64 = DCAz64.drop(columns=['Epoch']);\n",
    "DCAz128 = pd.read_csv('/home/jbs/scRNA-seq/steps/redone2/DCA/latent/DCA_z128_loss.csv', sep='\\t')\n",
    "DCAz128 = DCAz128.drop(columns=['Epoch']);\n",
    "DCAz256 = pd.read_csv('/home/jbs/scRNA-seq/steps/redone2/DCA/latent/DCA_z256_loss.csv', sep='\\t')\n",
    "DCAz256 = DCAz256.drop(columns=['Epoch']);"
   ]
  },
  {
   "cell_type": "code",
   "execution_count": 26,
   "id": "c84ef934",
   "metadata": {},
   "outputs": [
    {
     "name": "stdout",
     "output_type": "stream",
     "text": [
      "Test_loss     400.592124\n",
      "Train_loss    397.447079\n",
      "Name: 4890, dtype: float64\n"
     ]
    }
   ],
   "source": [
    "latent_val_loss = {latent:[4,8,al_loss.[409.91\n"
   ]
  }
 ],
 "metadata": {
  "kernelspec": {
   "display_name": "Python 3",
   "language": "python",
   "name": "python3"
  },
  "language_info": {
   "codemirror_mode": {
    "name": "ipython",
    "version": 3
   },
   "file_extension": ".py",
   "mimetype": "text/x-python",
   "name": "python",
   "nbconvert_exporter": "python",
   "pygments_lexer": "ipython3",
   "version": "3.7.10"
  }
 },
 "nbformat": 4,
 "nbformat_minor": 5
}
